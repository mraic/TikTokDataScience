{
 "cells": [
  {
   "cell_type": "code",
   "execution_count": null,
   "metadata": {},
   "outputs": [],
   "source": [
    "import pandas as pd"
   ]
  },
  {
   "cell_type": "code",
   "execution_count": null,
   "metadata": {},
   "outputs": [],
   "source": [
    "df = pd.read_json('export.json')"
   ]
  },
  {
   "cell_type": "code",
   "execution_count": null,
   "metadata": {},
   "outputs": [],
   "source": [
    "df.to_csv('tiktokdata.csv')"
   ]
  },
  {
   "cell_type": "markdown",
   "metadata": {},
   "source": [
    "# Creating Helper function to process data"
   ]
  },
  {
   "cell_type": "code",
   "execution_count": null,
   "metadata": {},
   "outputs": [],
   "source": [
    "import json"
   ]
  },
  {
   "cell_type": "code",
   "execution_count": null,
   "metadata": {},
   "outputs": [],
   "source": [
    "with open('export.json','r') as f:\n",
    "    data = json.load(f)"
   ]
  },
  {
   "cell_type": "code",
   "execution_count": null,
   "metadata": {},
   "outputs": [],
   "source": [
    "nested_values = ['video', 'author', 'music', 'stats',  'authorStats ', 'challenges', 'duetInfo', 'textExtra', 'stickersOnItem']\n",
    "skiped_values = ['challenges', 'duetInfo', 'textExtra', 'stickersOnItem']"
   ]
  },
  {
   "cell_type": "code",
   "execution_count": null,
   "metadata": {},
   "outputs": [],
   "source": [
    "# create blank dict\n",
    "flatten_data = {}\n",
    "# loop through each video\n",
    "for idx, value in enumerate(data):\n",
    "    flatten_data[idx] = {}\n",
    "    # loop through each property in each video\n",
    "    for prop_idx, prop_value in value.items():\n",
    "        # check if nested\n",
    "        if prop_idx in nested_values:\n",
    "            if prop_idx in skiped_values:\n",
    "                pass\n",
    "            else:\n",
    "                # loop through each nested property\n",
    "                for nested_idx, nested_value in prop_value.items():\n",
    "                    flatten_data[idx][prop_idx + '_' + nested_idx] = nested_value\n",
    "        # if it's not nested, add it back to the flattened dict\n",
    "        else:\n",
    "            flatten_data[idx][prop_idx] = prop_value"
   ]
  },
  {
   "cell_type": "code",
   "execution_count": null,
   "metadata": {},
   "outputs": [],
   "source": [
    "type(flatten_data)"
   ]
  },
  {
   "cell_type": "code",
   "execution_count": null,
   "metadata": {},
   "outputs": [],
   "source": [
    "# testing out output\n",
    "df_test = pd.DataFrame.from_dict(flatten_data, orient = 'index')"
   ]
  },
  {
   "cell_type": "code",
   "execution_count": null,
   "metadata": {},
   "outputs": [],
   "source": [
    "df_test.head()"
   ]
  },
  {
   "cell_type": "code",
   "execution_count": null,
   "metadata": {},
   "outputs": [],
   "source": [
    "df_test.to_csv('analytics.csv')"
   ]
  }
 ],
 "metadata": {
  "interpreter": {
   "hash": "e2dec28f418a26b7320dfd01c3bc416c7bfe54aaea3b2836b6c30ad714910bce"
  },
  "kernelspec": {
   "display_name": "Python 3.10.0 64-bit ('tiktokanalytics': venv)",
   "language": "python",
   "name": "python3"
  },
  "language_info": {
   "codemirror_mode": {
    "name": "ipython",
    "version": 3
   },
   "file_extension": ".py",
   "mimetype": "text/x-python",
   "name": "python",
   "nbconvert_exporter": "python",
   "pygments_lexer": "ipython3",
   "version": "3.10.0"
  },
  "orig_nbformat": 4
 },
 "nbformat": 4,
 "nbformat_minor": 2
}
